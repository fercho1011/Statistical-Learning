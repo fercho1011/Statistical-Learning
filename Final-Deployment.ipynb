{
 "cells": [
  {
   "cell_type": "code",
   "execution_count": 9,
   "metadata": {},
   "outputs": [],
   "source": [
    "import os\n",
    "import numpy as np\n",
    "from sklearn.model_selection import train_test_split\n",
    "import pandas as pd\n",
    "from sklearn.externals import joblib\n",
    "from sklearn import preprocessing\n",
    "from scipy import stats"
   ]
  },
  {
   "cell_type": "code",
   "execution_count": 3,
   "metadata": {},
   "outputs": [],
   "source": [
    "os.chdir(r\"C:\\Users\\Fernando\\Documents\\STUFF\\GALILEO\\2-Statistical Learning ML\\Final\\Logs\")\n",
    "svm = joblib.load('tSVM_c=1_g=0.1_Age_Fare_Parch_SibSp_passenger_sex_passenger_class.pkl')\n",
    "dt = joblib.load('tDT__Age_Fare_Parch_SibSp_passenger_sex_passenger_class.pkl')\n",
    "nb = joblib.load('tNB__Age_Fare_Parch_SibSp_passenger_sex_passenger_class.pkl')\n",
    "#tflr = np.load(\"tTF.LR_lr=0.002_L2_Lmd=0.1_Age_Fare_Parch_SibSp_passenger_sex_passenger_class.npy\")"
   ]
  },
  {
   "cell_type": "code",
   "execution_count": 14,
   "metadata": {},
   "outputs": [
    {
     "data": {
      "text/plain": [
       "'Sobrevivió'"
      ]
     },
     "execution_count": 14,
     "metadata": {},
     "output_type": "execute_result"
    }
   ],
   "source": [
    "def pred(val):\n",
    "    p = np.array([svm.predict(val),dt.predict(val),nb.predict(val)])\n",
    "    if stats.mode(p) == 0:\n",
    "        return \"No Sobrevivió\"\n",
    "    else:\n",
    "        return \"Sobrevivió\"\n",
    "\n",
    "#pred(np.array([28,14.4,1,1,0,0]).reshape(1, -1))\n",
    "#pred(np.array([50.00,28.7125,0,0,0,2]).reshape(1, -1))\n",
    "pred(np.array([36.00,12.8750,0,0,1,1]).reshape(1, -1))\n"
   ]
  },
  {
   "cell_type": "code",
   "execution_count": null,
   "metadata": {},
   "outputs": [],
   "source": []
  }
 ],
 "metadata": {
  "kernelspec": {
   "display_name": "Python 3",
   "language": "python",
   "name": "python3"
  },
  "language_info": {
   "codemirror_mode": {
    "name": "ipython",
    "version": 3
   },
   "file_extension": ".py",
   "mimetype": "text/x-python",
   "name": "python",
   "nbconvert_exporter": "python",
   "pygments_lexer": "ipython3",
   "version": "3.7.2"
  }
 },
 "nbformat": 4,
 "nbformat_minor": 2
}
